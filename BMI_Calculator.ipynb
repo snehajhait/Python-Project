{
 "cells": [
  {
   "cell_type": "markdown",
   "id": "df4947bd-3141-4faa-8dea-e8610946662d",
   "metadata": {},
   "source": [
    "# BMI Calculator "
   ]
  },
  {
   "cell_type": "code",
   "execution_count": 43,
   "id": "6fcda657-aed9-4df1-bdde-43cd16f97e21",
   "metadata": {},
   "outputs": [
    {
     "name": "stdin",
     "output_type": "stream",
     "text": [
      "Enter your name :  Rupesh\n",
      "Gender :  Male\n",
      "Enter your weight in Kgs :  30\n",
      "Enter your height in meters :  1.80\n"
     ]
    },
    {
     "name": "stdout",
     "output_type": "stream",
     "text": [
      "9.25925925925926\n",
      "Rupesh, You are Underweight. \n",
      "FEEDBACK: You need to take care of your health and have more calories\n"
     ]
    }
   ],
   "source": [
    "name = input(\"Enter your name : \")\n",
    "\n",
    "gender = input(\"Gender : \")\n",
    "\n",
    "weight = int(input(\"Enter your weight in Kgs : \"))\n",
    "\n",
    "height = float(input(\"Enter your height in meters : \"))\n",
    "\n",
    "BMI = ((weight) / (height * height))\n",
    "\n",
    "print(BMI)\n",
    "\n",
    "\n",
    "if BMI>0:\n",
    "    if (BMI < 18.5):\n",
    "        print(name + \", You are Underweight. \\nFEEDBACK: You need to take care of your health and have more calories\")\n",
    "    elif(BMI <= 24.9):\n",
    "        print(name + \", Your weight is normal. \\nFEEDBACK: keep it up. You are going good.\")\n",
    "    elif(BMI <= 29.9):\n",
    "        print(name + \", You are Overweight. \\nFEEDBACK: Stop being a couch potato and start working out.\")\n",
    "    elif(BMI <= 34.9):\n",
    "        print(name + \", You are Obese -> High. \\nFEEDBACK: Its an alarm to get up now and start exercising immediately\")\n",
    "    elif(BMI <= 39.9):\n",
    "        print(name + \", You are Severely-Obese -> Very High. \\nFEEDBACK: Consult the doctor as soon as possible. Should not be ignored\")\n",
    "    elif(BMI > 40):\n",
    "        print(name + \", You are Morbidly-Obese -> Extremely High. \\nFEEDBACK: Pray to god only he can save you\")\n",
    "    else:\n",
    "        print(name + \", Enter valid input\") "
   ]
  },
  {
   "cell_type": "code",
   "execution_count": null,
   "id": "223c24cc-0804-4f9d-87d4-b1ee74e1277e",
   "metadata": {},
   "outputs": [],
   "source": []
  }
 ],
 "metadata": {
  "kernelspec": {
   "display_name": "Python 3 (ipykernel)",
   "language": "python",
   "name": "python3"
  },
  "language_info": {
   "codemirror_mode": {
    "name": "ipython",
    "version": 3
   },
   "file_extension": ".py",
   "mimetype": "text/x-python",
   "name": "python",
   "nbconvert_exporter": "python",
   "pygments_lexer": "ipython3",
   "version": "3.12.4"
  }
 },
 "nbformat": 4,
 "nbformat_minor": 5
}
